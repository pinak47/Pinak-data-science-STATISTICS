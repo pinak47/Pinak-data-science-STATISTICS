{
 "cells": [
  {
   "cell_type": "markdown",
   "metadata": {},
   "source": [
    "## Importing the Libraries"
   ]
  },
  {
   "cell_type": "code",
   "execution_count": 1,
   "metadata": {},
   "outputs": [],
   "source": [
    "import numpy as np\n",
    "import pandas as pd\n",
    "import seaborn as sns\n",
    "from statsmodels.formula.api import ols      # For n-way ANOVA\n",
    "from statsmodels.stats.anova import _get_covariance,anova_lm # For n-way ANOVA\n",
    "%matplotlib inline\n",
    "import matplotlib.pyplot as plt"
   ]
  },
  {
   "cell_type": "markdown",
   "metadata": {},
   "source": [
    "### Problem 1:\n",
    "\n",
    "A research laboratory was developing a new compound for the relief of severe cases of hay fever. In an experiment with 36 volunteers, the amounts of the two active ingredients (A & B) in the compound were varied at three levels each. Randomization was used in assigning four volunteers to each of the nine treatments. The data on hours of relief can be found in the following .csv file: Fever.csv\n",
    "\n",
    "[ Assume all of the ANOVA assumptions are satisfied ]\n",
    "\n",
    "1.1) State the Null and Alternate Hypothesis for conducting one-way ANOVA for both the variables ‘A’ and ‘B’ individually. [both statement and statistical form like Ho=mu, Ha>mu]\n",
    "\n",
    "1.2) Perform one-way ANOVA for variable ‘A’ with respect to the variable ‘Relief’. State whether the Null Hypothesis is accepted or rejected based on the ANOVA results.\n",
    "\n",
    "1.3) Perform one-way ANOVA for variable ‘B’ with respect to the variable ‘Relief’. State whether the Null Hypothesis is accepted or rejected based on the ANOVA results.\n",
    "\n",
    "1.4) Analyse the effects of one variable on another with the help of an interaction plot.\n",
    "What is the interaction between the two treatments?\n",
    "[hint: use the ‘pointplot’ function from the ‘seaborn’ function]\n",
    "\n",
    "1.5) Perform a two-way ANOVA based on the different ingredients (variable ‘A’ & ‘B’ along with their interaction 'A*B') with the variable 'Relief' and state your results.\n",
    "\n",
    "1.6) Mention the business implications of performing ANOVA for this particular case study."
   ]
  },
  {
   "cell_type": "markdown",
   "metadata": {},
   "source": [
    "### Question 1.1)  State the Null and Alternate Hypothesis for conducting one-way ANOVA for both the variables ‘A’ and ‘B’ individually. [both statement and statistical form like Ho=mu, Ha>mu]\n",
    "\n",
    "\n",
    "### Answer 1.1:"
   ]
  },
  {
   "cell_type": "code",
   "execution_count": 2,
   "metadata": {},
   "outputs": [],
   "source": [
    "df=pd.read_csv('Fever-1.csv')"
   ]
  },
  {
   "cell_type": "code",
   "execution_count": 3,
   "metadata": {},
   "outputs": [
    {
     "data": {
      "text/html": [
       "<div>\n",
       "<style scoped>\n",
       "    .dataframe tbody tr th:only-of-type {\n",
       "        vertical-align: middle;\n",
       "    }\n",
       "\n",
       "    .dataframe tbody tr th {\n",
       "        vertical-align: top;\n",
       "    }\n",
       "\n",
       "    .dataframe thead th {\n",
       "        text-align: right;\n",
       "    }\n",
       "</style>\n",
       "<table border=\"1\" class=\"dataframe\">\n",
       "  <thead>\n",
       "    <tr style=\"text-align: right;\">\n",
       "      <th></th>\n",
       "      <th>A</th>\n",
       "      <th>B</th>\n",
       "      <th>Volunteer</th>\n",
       "      <th>Relief</th>\n",
       "    </tr>\n",
       "  </thead>\n",
       "  <tbody>\n",
       "    <tr>\n",
       "      <th>0</th>\n",
       "      <td>1</td>\n",
       "      <td>1</td>\n",
       "      <td>1</td>\n",
       "      <td>2.4</td>\n",
       "    </tr>\n",
       "    <tr>\n",
       "      <th>1</th>\n",
       "      <td>1</td>\n",
       "      <td>1</td>\n",
       "      <td>2</td>\n",
       "      <td>2.7</td>\n",
       "    </tr>\n",
       "    <tr>\n",
       "      <th>2</th>\n",
       "      <td>1</td>\n",
       "      <td>1</td>\n",
       "      <td>3</td>\n",
       "      <td>2.3</td>\n",
       "    </tr>\n",
       "    <tr>\n",
       "      <th>3</th>\n",
       "      <td>1</td>\n",
       "      <td>1</td>\n",
       "      <td>4</td>\n",
       "      <td>2.5</td>\n",
       "    </tr>\n",
       "    <tr>\n",
       "      <th>4</th>\n",
       "      <td>1</td>\n",
       "      <td>2</td>\n",
       "      <td>1</td>\n",
       "      <td>4.6</td>\n",
       "    </tr>\n",
       "    <tr>\n",
       "      <th>5</th>\n",
       "      <td>1</td>\n",
       "      <td>2</td>\n",
       "      <td>2</td>\n",
       "      <td>4.2</td>\n",
       "    </tr>\n",
       "    <tr>\n",
       "      <th>6</th>\n",
       "      <td>1</td>\n",
       "      <td>2</td>\n",
       "      <td>3</td>\n",
       "      <td>4.9</td>\n",
       "    </tr>\n",
       "    <tr>\n",
       "      <th>7</th>\n",
       "      <td>1</td>\n",
       "      <td>2</td>\n",
       "      <td>4</td>\n",
       "      <td>4.7</td>\n",
       "    </tr>\n",
       "    <tr>\n",
       "      <th>8</th>\n",
       "      <td>1</td>\n",
       "      <td>3</td>\n",
       "      <td>1</td>\n",
       "      <td>4.8</td>\n",
       "    </tr>\n",
       "    <tr>\n",
       "      <th>9</th>\n",
       "      <td>1</td>\n",
       "      <td>3</td>\n",
       "      <td>2</td>\n",
       "      <td>4.5</td>\n",
       "    </tr>\n",
       "  </tbody>\n",
       "</table>\n",
       "</div>"
      ],
      "text/plain": [
       "   A  B  Volunteer  Relief\n",
       "0  1  1          1     2.4\n",
       "1  1  1          2     2.7\n",
       "2  1  1          3     2.3\n",
       "3  1  1          4     2.5\n",
       "4  1  2          1     4.6\n",
       "5  1  2          2     4.2\n",
       "6  1  2          3     4.9\n",
       "7  1  2          4     4.7\n",
       "8  1  3          1     4.8\n",
       "9  1  3          2     4.5"
      ]
     },
     "execution_count": 3,
     "metadata": {},
     "output_type": "execute_result"
    }
   ],
   "source": [
    "df.head(10)"
   ]
  },
  {
   "cell_type": "markdown",
   "metadata": {},
   "source": [
    "#### $\\underline{Quick Info:  }$    A and B are two ingredients in a compound for the relief of severe cases of hay fever. 'A' and 'B' are having 3 levels each. 'Relief' is given in unit of Hours. It is the hours of relief that the medicine provides after consuming."
   ]
  },
  {
   "cell_type": "code",
   "execution_count": 4,
   "metadata": {},
   "outputs": [
    {
     "data": {
      "text/plain": [
       "A            0\n",
       "B            0\n",
       "Volunteer    0\n",
       "Relief       0\n",
       "dtype: int64"
      ]
     },
     "execution_count": 4,
     "metadata": {},
     "output_type": "execute_result"
    }
   ],
   "source": [
    "df.isnull().sum()"
   ]
  },
  {
   "cell_type": "markdown",
   "metadata": {},
   "source": [
    "### Checking the summary of the dataframe"
   ]
  },
  {
   "cell_type": "code",
   "execution_count": 5,
   "metadata": {},
   "outputs": [
    {
     "data": {
      "text/html": [
       "<div>\n",
       "<style scoped>\n",
       "    .dataframe tbody tr th:only-of-type {\n",
       "        vertical-align: middle;\n",
       "    }\n",
       "\n",
       "    .dataframe tbody tr th {\n",
       "        vertical-align: top;\n",
       "    }\n",
       "\n",
       "    .dataframe thead th {\n",
       "        text-align: right;\n",
       "    }\n",
       "</style>\n",
       "<table border=\"1\" class=\"dataframe\">\n",
       "  <thead>\n",
       "    <tr style=\"text-align: right;\">\n",
       "      <th></th>\n",
       "      <th>A</th>\n",
       "      <th>B</th>\n",
       "      <th>Volunteer</th>\n",
       "      <th>Relief</th>\n",
       "    </tr>\n",
       "  </thead>\n",
       "  <tbody>\n",
       "    <tr>\n",
       "      <th>count</th>\n",
       "      <td>36.000000</td>\n",
       "      <td>36.000000</td>\n",
       "      <td>36.000000</td>\n",
       "      <td>36.000000</td>\n",
       "    </tr>\n",
       "    <tr>\n",
       "      <th>mean</th>\n",
       "      <td>2.000000</td>\n",
       "      <td>2.000000</td>\n",
       "      <td>2.500000</td>\n",
       "      <td>7.183333</td>\n",
       "    </tr>\n",
       "    <tr>\n",
       "      <th>std</th>\n",
       "      <td>0.828079</td>\n",
       "      <td>0.828079</td>\n",
       "      <td>1.133893</td>\n",
       "      <td>3.272090</td>\n",
       "    </tr>\n",
       "    <tr>\n",
       "      <th>min</th>\n",
       "      <td>1.000000</td>\n",
       "      <td>1.000000</td>\n",
       "      <td>1.000000</td>\n",
       "      <td>2.300000</td>\n",
       "    </tr>\n",
       "    <tr>\n",
       "      <th>25%</th>\n",
       "      <td>1.000000</td>\n",
       "      <td>1.000000</td>\n",
       "      <td>1.750000</td>\n",
       "      <td>4.675000</td>\n",
       "    </tr>\n",
       "    <tr>\n",
       "      <th>50%</th>\n",
       "      <td>2.000000</td>\n",
       "      <td>2.000000</td>\n",
       "      <td>2.500000</td>\n",
       "      <td>6.000000</td>\n",
       "    </tr>\n",
       "    <tr>\n",
       "      <th>75%</th>\n",
       "      <td>3.000000</td>\n",
       "      <td>3.000000</td>\n",
       "      <td>3.250000</td>\n",
       "      <td>9.325000</td>\n",
       "    </tr>\n",
       "    <tr>\n",
       "      <th>max</th>\n",
       "      <td>3.000000</td>\n",
       "      <td>3.000000</td>\n",
       "      <td>4.000000</td>\n",
       "      <td>13.500000</td>\n",
       "    </tr>\n",
       "  </tbody>\n",
       "</table>\n",
       "</div>"
      ],
      "text/plain": [
       "               A          B  Volunteer     Relief\n",
       "count  36.000000  36.000000  36.000000  36.000000\n",
       "mean    2.000000   2.000000   2.500000   7.183333\n",
       "std     0.828079   0.828079   1.133893   3.272090\n",
       "min     1.000000   1.000000   1.000000   2.300000\n",
       "25%     1.000000   1.000000   1.750000   4.675000\n",
       "50%     2.000000   2.000000   2.500000   6.000000\n",
       "75%     3.000000   3.000000   3.250000   9.325000\n",
       "max     3.000000   3.000000   4.000000  13.500000"
      ]
     },
     "execution_count": 5,
     "metadata": {},
     "output_type": "execute_result"
    }
   ],
   "source": [
    "df.describe()"
   ]
  },
  {
   "cell_type": "markdown",
   "metadata": {},
   "source": [
    "### Checking distinct values of 'A' and 'B'"
   ]
  },
  {
   "cell_type": "code",
   "execution_count": 6,
   "metadata": {},
   "outputs": [
    {
     "name": "stdout",
     "output_type": "stream",
     "text": [
      "3    12\n",
      "2    12\n",
      "1    12\n",
      "Name: A, dtype: int64\n",
      "3    12\n",
      "2    12\n",
      "1    12\n",
      "Name: B, dtype: int64\n"
     ]
    }
   ],
   "source": [
    "print(df.A.value_counts())\n",
    "print(df.B.value_counts())\n"
   ]
  },
  {
   "cell_type": "markdown",
   "metadata": {},
   "source": [
    "#### Here 1,2 & 3 are different levels for ingredient A and B"
   ]
  },
  {
   "cell_type": "markdown",
   "metadata": {},
   "source": [
    "### Creating box plots"
   ]
  },
  {
   "cell_type": "code",
   "execution_count": 7,
   "metadata": {},
   "outputs": [
    {
     "data": {
      "image/png": "[encoded data removed]",
      "text/plain": [
       "<Figure size 432x288 with 1 Axes>"
      ]
     },
     "metadata": {
      "needs_background": "light"
     },
     "output_type": "display_data"
    },
    {
     "data": {
      "image/png": "[encoded data removed]",
      "text/plain": [
       "<Figure size 432x288 with 1 Axes>"
      ]
     },
     "metadata": {
      "needs_background": "light"
     },
     "output_type": "display_data"
    }
   ],
   "source": [
    "#fig.set_size_inches(8, 8)\n",
    "sns.boxplot(x=\"A\", y=\"Relief\", data=df)\n",
    "plt.grid()\n",
    "plt.show()\n",
    "sns.boxplot(x=\"B\", y=\"Relief\", data=df)\n",
    "plt.grid()\n",
    "plt.show()"
   ]
  },
  {
   "cell_type": "markdown",
   "metadata": {},
   "source": [
    "#### Looking at above boxplot of 'Relief', we can observe that there is a change in the Relief across different ingredients."
   ]
  },
  {
   "cell_type": "markdown",
   "metadata": {},
   "source": [
    "### Formulating the hypothesis of the One-way ANOVA of 'A' variable with the 'Relief' variable."
   ]
  },
  {
   "cell_type": "markdown",
   "metadata": {},
   "source": [
    "$H_0$ : The mean hours of relief for different levels of compound A are equal.\n",
    "\n",
    "$\\mu_{A1} = \\mu_{A2} = \\mu_{A3}$\n",
    "\n",
    "$H_1$ : At least for one of the levels of A, the mean hours of relief is different from the other.\n",
    "\n",
    "$\\mu_{A1} \\neq \\mu_{A2}$   or   $\\mu_{A2} \\neq \\mu_{A3}$ or $\\mu_{A1} \\neq \\mu_{A3}$\n"
   ]
  },
  {
   "cell_type": "markdown",
   "metadata": {},
   "source": [
    "### Formulating the hypothesis of the One-way ANOVA of 'B' variable with the 'Relief' variable."
   ]
  },
  {
   "cell_type": "markdown",
   "metadata": {},
   "source": [
    "$H_0$ : The mean hours of relief for different levels of compound B are equal.\n",
    "\n",
    "$\\mu_{B1} = \\mu_{B2} = \\mu_{B3}$\n",
    "\n",
    "$H_1$ : At least for one of the levels of B, the mean hours of relief is different from the other.\n",
    "\n",
    "$\\mu_{B1} \\neq \\mu_{B2}$   or   $\\mu_{B2} \\neq \\mu_{B3}$ or $\\mu_{B1} \\neq \\mu_{B3}$"
   ]
  },
  {
   "cell_type": "markdown",
   "metadata": {},
   "source": [
    "### Question 1.2) Perform one-way ANOVA for variable ‘A’ with respect to the variable ‘Relief’. State whether the Null Hypothesis is accepted or rejected based on the ANOVA results.\n",
    "\n",
    "### Answer 1.2:"
   ]
  },
  {
   "cell_type": "markdown",
   "metadata": {},
   "source": [
    "### One Way Anova\n",
    "\n",
    "#### Formulation of the hypothesis of the One-way ANOVA\n",
    "\n",
    "$H_0$ : The mean hours of relief for different levels of compound A are equal.\n",
    "\n",
    "$\\mu_{A1} = \\mu_{A2} = \\mu_{A3}$\n",
    "\n",
    "$H_1$ : At least for one of the levels of A, the mean hours of relief is different from the other.\n",
    "\n",
    "$\\mu_{A1} \\neq \\mu_{A2}$   or   $\\mu_{A2} \\neq \\mu_{A3}$ or $\\mu_{A1} \\neq \\mu_{A3}$\n",
    "\n",
    "Moreover, ANOVA is based on the following assumptions,\n",
    "1. The samples should be independent\n",
    "2. The data resembles a Normal distribution\n",
    "3. The variances across different variables are same\n",
    "\n",
    "##### To check the normality, Seaborn Distplot has been used. Based on the histogram, it is observed that the distribution is not normal. So, more data might  be needed to include for it to become normal. But, as of now, we will proceed with the given data.\n",
    "\n",
    "#### Here we are assuming the level of significance as 0.05\n",
    "\n",
    "Executing ANOVA in python,"
   ]
  },
  {
   "cell_type": "code",
   "execution_count": 8,
   "metadata": {},
   "outputs": [
    {
     "name": "stdout",
     "output_type": "stream",
     "text": [
      "            df  sum_sq     mean_sq          F        PR(>F)\n",
      "C(A)       2.0  220.02  110.010000  23.465387  4.578242e-07\n",
      "Residual  33.0  154.71    4.688182        NaN           NaN\n"
     ]
    }
   ],
   "source": [
    "df.A = pd.Categorical(df.A) # Necessary step in the present case as the levels are in numeric\n",
    "df.A.value_counts \n",
    "\n",
    "formula = 'Relief ~ C(A)'\n",
    "model = ols(formula, df).fit()\n",
    "aov_table = anova_lm(model)\n",
    "print(aov_table)"
   ]
  },
  {
   "cell_type": "markdown",
   "metadata": {},
   "source": [
    "#### Here since the p-value (4.578242e-07) is less than 0.05 (level of significance). Hence we reject the null hypothesis.Thus we conclude that mean number of hours of relief is different for levels in compound A."
   ]
  },
  {
   "cell_type": "markdown",
   "metadata": {},
   "source": [
    "### Question 1.3) Perform one-way ANOVA for variable ‘B’ with respect to the variable ‘Relief’. State whether the Null Hypothesis is accepted or rejected based on the ANOVA results.\n",
    "\n",
    "### Answer 1.3:"
   ]
  },
  {
   "cell_type": "markdown",
   "metadata": {},
   "source": [
    "### One Way Anova\n",
    "\n",
    "#### Formulation of the hypothesis of the One-way ANOVA\n",
    "\n",
    "$H_0$ : The mean hours of relief for different levels of compound B are equal.\n",
    "\n",
    "$\\mu_{B1} = \\mu_{B2} = \\mu_{B3}$\n",
    "\n",
    "$H_1$ : At least for one of the levels of B, the mean hours of relief is different from the other.\n",
    "\n",
    "$\\mu_{B1} \\neq \\mu_{B2}$   or   $\\mu_{B2} \\neq \\mu_{B3}$ or $\\mu_{B1} \\neq \\mu_{B3}$\n",
    "\n",
    "Moreover, ANOVA is based on the following assumptions,\n",
    "1. The samples should be independent\n",
    "2. The data resembles a Normal distribution\n",
    "3. The variances across different variables are same\n",
    "\n",
    "#### Here we are assuming the level of significance as 0.05\n",
    "\n",
    "##### To check the normality, Seaborn Distplot has been used. Based on the histogram, it is observed that the distribution is not normal. So, more data might  be needed to include for it to become normal. But, as of now, we will proceed with the given data.\n",
    " \n",
    "\n",
    "Executing ANOVA in python,\n"
   ]
  },
  {
   "cell_type": "code",
   "execution_count": 9,
   "metadata": {},
   "outputs": [
    {
     "name": "stdout",
     "output_type": "stream",
     "text": [
      "            df  sum_sq    mean_sq         F   PR(>F)\n",
      "C(B)       2.0  123.66  61.830000  8.126777  0.00135\n",
      "Residual  33.0  251.07   7.608182       NaN      NaN\n"
     ]
    }
   ],
   "source": [
    "df.B = pd.Categorical(df.B) # Necessary step in the present case as the levels are in numeric\n",
    "df.B.value_counts \n",
    "\n",
    "formula = 'Relief ~ C(B)'\n",
    "model = ols(formula, df).fit()\n",
    "aov_table = anova_lm(model)\n",
    "print(aov_table)"
   ]
  },
  {
   "cell_type": "markdown",
   "metadata": {},
   "source": [
    "#### Here since the p-value (0.00135) is less than 0.05 (level of significance). Hence we reject the null hypothesis.Thus we conclude that mean number of hours of relief is different for levels in compound B."
   ]
  },
  {
   "cell_type": "markdown",
   "metadata": {},
   "source": [
    "### Question 1.4) Analyse the effects of one variable on another with the help of an interaction plot. What is the interaction between the two treatments? \n",
    "\n",
    "### Answer 1.4:\n",
    "\n",
    "##### To find the interaction between the two variables A and B, pointplot is used to describe the scenario."
   ]
  },
  {
   "cell_type": "markdown",
   "metadata": {},
   "source": [
    "#### By using Point plot for 'A' vs 'Relief', it is observed that level 3 has most hours of Relief, whereas level 1 has the least. This is also complimented by one way ANOVA that the mean hours of Relief is different for different levels of 'A' (Question 1.2). \n",
    "\n",
    "#### By using Point plot for 'B' vs 'Relief', it is observed that level 3 has most hours of Relief, whereas level 1 has the least. This is also complimented by one way ANOVA that the mean hours of Relief is different for different levels of 'B' (Question 1.3). "
   ]
  },
  {
   "cell_type": "code",
   "execution_count": 10,
   "metadata": {
    "scrolled": true
   },
   "outputs": [
    {
     "data": {
      "image/png": "[encoded data removed]",
      "text/plain": [
       "<Figure size 432x288 with 1 Axes>"
      ]
     },
     "metadata": {
      "needs_background": "light"
     },
     "output_type": "display_data"
    }
   ],
   "source": [
    "sns.pointplot(x = 'A', y = 'Relief', data=df, ci=None)\n",
    "plt.show()"
   ]
  },
  {
   "cell_type": "code",
   "execution_count": 11,
   "metadata": {
    "scrolled": true
   },
   "outputs": [
    {
     "data": {
      "image/png": "[encoded data removed]",
      "text/plain": [
       "<Figure size 432x288 with 1 Axes>"
      ]
     },
     "metadata": {
      "needs_background": "light"
     },
     "output_type": "display_data"
    }
   ],
   "source": [
    "sns.pointplot(x = 'B', y = 'Relief', data=df, ci=None)\n",
    "plt.show()"
   ]
  },
  {
   "cell_type": "code",
   "execution_count": 12,
   "metadata": {},
   "outputs": [
    {
     "data": {
      "image/png": "[encoded data removed]",
      "text/plain": [
       "<Figure size 432x288 with 1 Axes>"
      ]
     },
     "metadata": {
      "needs_background": "light"
     },
     "output_type": "display_data"
    }
   ],
   "source": [
    "sns.pointplot(x = 'A', y = 'Relief', hue= 'B', data=df, ci=None)\n",
    "plt.show()"
   ]
  },
  {
   "cell_type": "markdown",
   "metadata": {},
   "source": [
    "\n",
    "\n",
    "By observing the interaction plot between Variable A and Variable B, we can say that there is an interaction between Variable A and Variable B based on the response variable Relief. We can conclude that there is an interaction between compound A and B.\n",
    "\n",
    "We can also verify the Interaction Effect using python ANOVA mothod in jupyter notebook.\n"
   ]
  },
  {
   "cell_type": "code",
   "execution_count": 13,
   "metadata": {},
   "outputs": [
    {
     "name": "stdout",
     "output_type": "stream",
     "text": [
      "             df   sum_sq     mean_sq            F        PR(>F)\n",
      "C(A)        2.0  220.020  110.010000  1827.858462  1.514043e-29\n",
      "C(B)        2.0  123.660   61.830000  1027.329231  3.348751e-26\n",
      "C(A):C(B)   4.0   29.425    7.356250   122.226923  6.972083e-17\n",
      "Residual   27.0    1.625    0.060185          NaN           NaN\n"
     ]
    }
   ],
   "source": [
    "#Interaction Effect:\n",
    "model=ols('Relief ~ C(A)+C(B)+C(A):C(B)',data=df).fit()\n",
    "aov_table=anova_lm(model)\n",
    "print(aov_table)"
   ]
  },
  {
   "cell_type": "markdown",
   "metadata": {},
   "source": [
    "##### As the p value for compound A and B interaction is 6.972083e-17 which is < 0.05 , there seems to have statistical interaction."
   ]
  },
  {
   "cell_type": "markdown",
   "metadata": {},
   "source": [
    "### Question 1.5) Perform a two-way ANOVA based on the different ingredients (variable ‘A’ & ‘B’ along with their interaction 'A*B') with the variable 'Relief' and state your results.\n",
    "\n",
    "### Answer 1.5:\n",
    "\n",
    "### Two Way Anova\n",
    "\n",
    "#### Formulation of the hypothesis of the two-way ANOVA\n",
    "\n",
    "$H_0$ : The mean hours of relief with respect to different levels of compound A and B are equal.\n",
    "\n",
    "\n",
    "$H_1$ : At least one of the mean hours of relief with respect to different levels of compound A and B are not equal.\n",
    "\n",
    "\n",
    "ANOVA is based on the following assumptions,\n",
    "1. The samples should be independent\n",
    "2. The data resembles a Normal distribution\n",
    "3. The variances across different variables are same\n",
    "\n",
    "#### Here we are assuming the level of significance as 0.05\n",
    "\n",
    "##### To check the normality, Seaborn Distplot has been used. Based on the histogram, it is observed that the distribution is not normal. So, more data might  be needed to include for it to become normal. But, as of now, we will proceed with the given data.\n",
    " \n",
    "\n",
    "\n"
   ]
  },
  {
   "cell_type": "code",
   "execution_count": 14,
   "metadata": {},
   "outputs": [
    {
     "data": {
      "image/png": "[encoded data removed]",
      "text/plain": [
       "<Figure size 432x288 with 1 Axes>"
      ]
     },
     "metadata": {
      "needs_background": "light"
     },
     "output_type": "display_data"
    }
   ],
   "source": [
    "sns.distplot(df['Relief'],bins = 10)\n",
    "plt.show()"
   ]
  },
  {
   "cell_type": "code",
   "execution_count": 15,
   "metadata": {},
   "outputs": [
    {
     "name": "stdout",
     "output_type": "stream",
     "text": [
      "            df  sum_sq     mean_sq           F        PR(>F)\n",
      "C(A)       2.0  220.02  110.010000  109.832850  8.514029e-15\n",
      "C(B)       2.0  123.66   61.830000   61.730435  1.546749e-11\n",
      "Residual  31.0   31.05    1.001613         NaN           NaN\n"
     ]
    }
   ],
   "source": [
    "#2 way ANOVA without Interaction Effect:\n",
    "model=ols('Relief ~ C(A)+C(B)',data=df).fit()\n",
    "aov_table=anova_lm(model,type=2)\n",
    "print(aov_table)"
   ]
  },
  {
   "cell_type": "markdown",
   "metadata": {},
   "source": [
    "##### Considering both the factors(A and B), A has the p value of 8.514029e-15 which is <0.05 and  B has the p value of 1.546749e-11 which is <0.05. So, both the compound A and B are significant for Relief."
   ]
  },
  {
   "cell_type": "code",
   "execution_count": 16,
   "metadata": {},
   "outputs": [
    {
     "name": "stdout",
     "output_type": "stream",
     "text": [
      "             df   sum_sq     mean_sq            F        PR(>F)\n",
      "C(A)        2.0  220.020  110.010000  1827.858462  1.514043e-29\n",
      "C(B)        2.0  123.660   61.830000  1027.329231  3.348751e-26\n",
      "C(A):C(B)   4.0   29.425    7.356250   122.226923  6.972083e-17\n",
      "Residual   27.0    1.625    0.060185          NaN           NaN\n"
     ]
    }
   ],
   "source": [
    "#2 way ANOVA with Interaction Effect:\n",
    "model=ols('Relief ~ C(A)+C(B)+C(A):C(B)',data=df).fit()\n",
    "aov_table=anova_lm(model,type=3)\n",
    "print(aov_table)"
   ]
  },
  {
   "cell_type": "markdown",
   "metadata": {},
   "source": [
    "##### Considering both the factors A and B along with the interaction between the A and B, it is observed that A has the p value of 1.514043e-29 which is <0.05 and  B has the p value of 3.348751e-26 which is <0.05. Also, interaction of A and B has p value of 6.972083e-17 which is <0.05 .So, both the compound A and B and their interaction (A*B) are significant for Relief."
   ]
  },
  {
   "cell_type": "markdown",
   "metadata": {},
   "source": [
    "### Question 1.6) Mention the business implications of performing ANOVA for this particular case study.\n",
    "\n",
    "### Answer 1.6:\n",
    "\n",
    "\n",
    "\n",
    "\n",
    "\n",
    "\n",
    "\n",
    "\n",
    "\n",
    "\n"
   ]
  },
  {
   "cell_type": "markdown",
   "metadata": {},
   "source": [
    "##### The following are the some of the observations/recommendations from ANOVA exercise which may impact business decisions (assuming that the volunteers react to the compound identically) ,\n",
    "\n",
    "1. All 3 levels of both 'A' and 'B' ingredients have impact on the 'Relief' assuming the compound contains either 'A' or 'B'. Levels 2 and 3 are more effective in 'Relief' than level 1 if considered individually. One way ANOVA also confirms the same. \n",
    "\n",
    "2. If both 'A' and 'B' ingredients are considered along with their interaction among different levels (1 to 3), it is observed that there is a noticeable change in 'Relief' mean hours. Two way ANOVA also confirms the changes.\n",
    "\n",
    "3. Highest mean 'Relief' hours can be seen in interaction of level 3 of 'A' and level 3 of 'B'. (from interaction plot)\n",
    "\n",
    "4. Lowest mean 'Relief' hours can be seen in interaction of level 1 of 'A' and level 1 of 'B'. (from interaction plot)\n",
    "\n",
    "5. Moreover, if the level 1 of 'B' is ignored from the dataset, still there is a significant 'Relief' hours which can be expected from the interaction between level 1,2 & 3 of 'A' and level 2 & 3 of 'B'. \n",
    "\n",
    "6. So, if maximizing 'Relief' hours is the only intention of developing this compound, then we can even ignore level 1 of 'A', thus leaving only two levels ( level 2 & 3) for 'A' and 'B'. In that case, the laboratory can have the following advantages  businesswise,\n",
    "\n",
    "  a) Lesser time to release the final compound (drug) as there are only 2 levels (2x2) of design experimentation. Lesser the variability more is the probability of success rate.\n",
    "  \n",
    "  b) Less cost involving compounds, less number of equipment required to vary the ingredients in experiement.\n",
    "  \n",
    "  c) Minimize other associated cost like out of pocket etc.\n",
    "  \n",
    "7. Finally, such impacts may not be so realistic in magnitude, but modest action will have an impact on business."
   ]
  },
  {
   "cell_type": "code",
   "execution_count": null,
   "metadata": {},
   "outputs": [],
   "source": []
  }
 ],
 "metadata": {
  "kernelspec": {
   "display_name": "Python 3",
   "language": "python",
   "name": "python3"
  },
  "language_info": {
   "codemirror_mode": {
    "name": "ipython",
    "version": 3
   },
   "file_extension": ".py",
   "mimetype": "text/x-python",
   "name": "python",
   "nbconvert_exporter": "python",
   "pygments_lexer": "ipython3",
   "version": "3.8.3"
  }
 },
 "nbformat": 4,
 "nbformat_minor": 4
}
